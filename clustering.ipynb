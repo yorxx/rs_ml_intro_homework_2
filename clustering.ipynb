{
 "cells": [
  {
   "cell_type": "markdown",
   "metadata": {},
   "source": [
    "Each task that is proposed to be completed as part of the homework has a declared \"price\" in points. The maximum possible amount is 10 points, and together with the bonus assignment - 12 points. It is not necessary to complete all the tasks, only a part can be done. Most of the points expect you to write working Python code; sometimes you will need to write comments - for example, to compare several approaches to solve the same problem. Also you can add more cells for your convenience if you need."
   ]
  },
  {
   "cell_type": "markdown",
   "metadata": {},
   "source": [
    "This homework focuses on clustering. We will work with images of handwritten digits, learn how to cluster them using two different methods (hierarchical clustering and the 𝐾-means algorithm), evaluate the quality of the partition and choose the optimal number of clusters, as well as visualize intermediate results."
   ]
  },
  {
   "cell_type": "markdown",
   "metadata": {},
   "source": [
    "## 1. Loading data\n",
    "The data we will be working with is available in the scikit-learn library (`sklearn` module) in the `datasets` submodule via the `load_digits` function. The data contains 1,797 observations, each of which is 8×8 pixel image of a handwritten digit from 0 to 9. This is about the same amount of each digit (about 180).\n",
    "\n",
    "For convenience, every image expands to a 64 (8×8) row, so entire numpy array is 1797×64. The color intensity in each pixel is encoded with an integer from 0 to 16.\n",
    "\n",
    "In addition to images, their labels are also known. In this task, we will assume that the labels (as well as their amount) are unknown and try to group the data in such a way that the resulting clusters 'better match' the original ones. Possible options for determining the 'better match' are presented later."
   ]
  },
  {
   "cell_type": "markdown",
   "metadata": {},
   "source": [
    "**(0.25 points)** Load the images into `X` variable, and their labels into `y` variable."
   ]
  },
  {
   "cell_type": "code",
   "execution_count": 1,
   "metadata": {},
   "outputs": [],
   "source": [
    "from sklearn.cluster import AgglomerativeClustering, KMeans\n",
    "from sklearn.decomposition import TruncatedSVD\n",
    "from sklearn.manifold import TSNE\n",
    "from sklearn.metrics import pairwise_distances, pairwise_distances_argmin, silhouette_score, v_measure_score\n",
    "%matplotlib inline\n",
    "import matplotlib.pyplot as plt\n",
    "from sklearn.datasets import load_digits\n",
    "from sklearn.model_selection import train_test_split\n",
    "import numpy as np\n",
    "import pandas as pd"
   ]
  },
  {
   "cell_type": "code",
   "execution_count": 2,
   "outputs": [],
   "source": [
    "X, y = load_digits(return_X_y=True, as_frame=True)"
   ],
   "metadata": {
    "collapsed": false,
    "pycharm": {
     "name": "#%%\n"
    }
   }
  },
  {
   "cell_type": "code",
   "execution_count": 3,
   "metadata": {},
   "outputs": [],
   "source": [
    "assert X.shape == (1797, 64)\n",
    "assert y.shape == (1797,)"
   ]
  },
  {
   "cell_type": "markdown",
   "metadata": {},
   "source": [
    "**(0.5 points)** Visualize the first 10 images.\n",
    "\n",
    "- Arrange images on a grid rather than in a row. You may need the `subplot` and `imshow` functions from the `pyplot` module in the `matplotlib` library.\n",
    "- You will also need to reshape the images to 8×8.\n",
    "- Remove ticks and labels from both axes. The `xticks` and `yticks` functions or the `tick_params` function from `pyplot` can help you with this.\n",
    "- Make the output good sized with the `figure` function from `pyplot`."
   ]
  },
  {
   "cell_type": "code",
   "execution_count": 4,
   "metadata": {},
   "outputs": [
    {
     "data": {
      "text/plain": "<Figure size 720x288 with 10 Axes>",
      "image/png": "[encoded data removed]"
     },
     "metadata": {
      "needs_background": "light"
     },
     "output_type": "display_data"
    }
   ],
   "source": [
    "f, ax = plt.subplots(2, 5, figsize=(10,4))\n",
    "\n",
    "for i in range(2):\n",
    "    for j in range(5):\n",
    "        ax[i][j].set_axis_off()\n",
    "        ax[i][j].imshow(X.iloc[i*5+j].values.reshape(8,8))\n",
    "\n",
    "plt.show();"
   ]
  },
  {
   "cell_type": "markdown",
   "metadata": {},
   "source": [
    "## 2. Clustering and quality evaluation"
   ]
  },
  {
   "cell_type": "markdown",
   "metadata": {},
   "source": [
    "**(2 points)** Implement the KMeans algorithm. Use objective function $L = \\sum_{i=1}^{n}|x_{i}-Z_{A(x_{i})}|^{2}$, where $Z_{A(x_{i})}$ is the center of the cluster corresponding to $x_{i}$ object."
   ]
  },
  {
   "cell_type": "code",
   "execution_count": 5,
   "metadata": {},
   "outputs": [],
   "source": [
    "from sklearn.exceptions import NotFittedError\n",
    "from numpy.random import RandomState"
   ]
  },
  {
   "cell_type": "code",
   "execution_count": 6,
   "metadata": {},
   "outputs": [],
   "source": [
    "class CustomKMeans:\n",
    "    def __init__(self, n_clusters=2, max_iter=30, n_init=10, random_state=42):\n",
    "        '''K-Means clustering.\n",
    "        \n",
    "        Args:\n",
    "            n_clusters: int, default=2\n",
    "                The number of clusters to be formed is also \n",
    "                the number of centroids to generate. \n",
    "            max_iter: int, default=300\n",
    "                Maximum number of iterations of the k-means algorithm for a\n",
    "                single run.\n",
    "            n_init: int, default=10\n",
    "                Number of time the k-means algorithm will be run with different\n",
    "                centroid seeds. The final results will be the best output of\n",
    "                n_init consecutive runs in terms of objective function.\n",
    "            random_state: int, default=42\n",
    "                Random state.\n",
    "        '''\n",
    "        self.n_clusters = n_clusters\n",
    "        self.n_init = n_init\n",
    "        self.max_iter = max_iter\n",
    "        self.random_state = RandomState(seed=random_state)\n",
    "        self.objectives = [[] for _ in range(self.n_init)]\n",
    "        \n",
    "    def calculate_distances_to_centroids(self, X, cluster_centers):\n",
    "        \"\"\"\n",
    "        Returns (n, c) matrix where the element at position (i, j) \n",
    "        is the distance from i-th object to j-th centroid.\"\"\"\n",
    "        # <your code>\n",
    "        return pairwise_distances(X, cluster_centers)\n",
    "    \n",
    "    def update_centroids(self, X, nearest_clusters):\n",
    "        \"\"\"\n",
    "        Returns numpy array of shape (n_clusters, n_features) - \n",
    "        new clusters that are found by averaging objects belonging \n",
    "        to the corresponding cluster.\"\"\"\n",
    "        self.cluster_centers_ = np.array([X[nearest_clusters == i].mean(0)\n",
    "                                for i in range(self.n_clusters)])\n",
    "        \n",
    "    def fit(self, X):\n",
    "        \"\"\"Fit the model.\n",
    "        \n",
    "        Args:\n",
    "            X: numpy array of shape (n_samples, n_features)\n",
    "        \"\"\"\n",
    "        assert X.shape[0] >= self.n_clusters\n",
    "\n",
    "        for n_iter in range(self.n_init):\n",
    "            i = self.random_state.permutation(X.shape[0])[:self.n_clusters]\n",
    "            self.cluster_centers_ = X.iloc[i, :].values\n",
    "            for iter_ in range(self.max_iter):\n",
    "                labels = pairwise_distances_argmin(X, self.cluster_centers_)\n",
    "                self.update_centroids(X, labels)\n",
    "            objective = np.linalg.norm(np.vstack([X[labels == i] - self.cluster_centers_[i]\n",
    "                    for i in range(self.n_clusters)]))\n",
    "            self.objectives[n_iter].append(objective)\n",
    "            if n_iter == 0 or objective < self.top_objective:\n",
    "                self.top_objective = objective\n",
    "                self.top_centers = self.cluster_centers_\n",
    "                self.labels = labels\n",
    "        return self\n",
    "            \n",
    "    \n",
    "    def predict(self, X):\n",
    "        \"\"\"Predict classes.\n",
    "        \n",
    "        Args:\n",
    "            X: numpy array of shape (n_samples, n_features)\n",
    "        Returns:\n",
    "            y: numpy array of shape (n_samples,)\n",
    "                Vector containing predicted cluster labels.\n",
    "        \"\"\"\n",
    "        if hasattr(self, 'cluster_centers_'):\n",
    "            return self.labels\n",
    "        else: \n",
    "            raise NotFittedError(\"CustomKMeans instance is not fitted yet\")"
   ]
  },
  {
   "cell_type": "code",
   "execution_count": 6,
   "outputs": [],
   "source": [],
   "metadata": {
    "collapsed": false,
    "pycharm": {
     "name": "#%%\n"
    }
   }
  },
  {
   "cell_type": "markdown",
   "metadata": {},
   "source": [
    "**(1 points)** Get the `X` array partition into 10 clusters. Visualize the centers of clusters.\n",
    "- We will assume that the center of the cluster is average value of all observations belonging to the cluster.\n",
    "- The cluster centers should have the same shape as our observations (64). So you have to average the points across the rows."
   ]
  },
  {
   "cell_type": "code",
   "execution_count": 7,
   "metadata": {},
   "outputs": [],
   "source": [
    "model = CustomKMeans(n_clusters=10)\n",
    "model.fit(X)\n",
    "custom_kmeans_labels = model.predict(X)\n",
    "assert custom_kmeans_labels.shape == (1797,)"
   ]
  },
  {
   "cell_type": "code",
   "execution_count": 8,
   "metadata": {},
   "outputs": [
    {
     "data": {
      "text/plain": "<Figure size 720x288 with 10 Axes>",
      "image/png": "[encoded data removed]"
     },
     "metadata": {
      "needs_background": "light"
     },
     "output_type": "display_data"
    }
   ],
   "source": [
    "f, ax = plt.subplots(2, 5, figsize=(10,4))\n",
    "\n",
    "for i in range(2):\n",
    "    for j in range(5):\n",
    "        ax[i][j].set_axis_off()\n",
    "        ax[i][j].imshow(model.top_centers[i*5+j].reshape(8,8))\n",
    "\n",
    "plt.show();"
   ]
  },
  {
   "cell_type": "markdown",
   "metadata": {},
   "source": [
    "**(0.5 points)** Experiment with `max_iter` and `n_init` parameters. Look at the range of values of the objective function, it's best values, at what parameters and how often they are achieved."
   ]
  },
  {
   "cell_type": "code",
   "execution_count": 9,
   "metadata": {},
   "outputs": [
    {
     "name": "stdout",
     "output_type": "stream",
     "text": [
      "For n_init=5 and max_iter=5 the best objective value is 1099.5144515717834, range is 1099.5144515717834-1121.6914259698567\n",
      "For n_init=5 and max_iter=10 the best objective value is 1080.1240856201782, range is 1080.1240856201782-1108.4061584059127\n",
      "For n_init=5 and max_iter=15 the best objective value is 1079.560709269247, range is 1079.560709269247-1107.6062523354844\n",
      "For n_init=5 and max_iter=20 the best objective value is 1079.5538605998552, range is 1079.5538605998552-1106.6933562332551\n",
      "For n_init=5 and max_iter=25 the best objective value is 1079.5538605998552, range is 1079.5538605998552-1103.8158592931477\n",
      "For n_init=10 and max_iter=5 the best objective value is 1099.5144515717834, range is 1099.5144515717834-1121.6914259698567\n",
      "For n_init=10 and max_iter=10 the best objective value is 1080.1240856201782, range is 1080.1240856201782-1108.4061584059127\n",
      "For n_init=10 and max_iter=15 the best objective value is 1079.560709269247, range is 1079.560709269247-1107.6062523354844\n",
      "For n_init=10 and max_iter=20 the best objective value is 1079.5538605998552, range is 1079.5538605998552-1106.6933562332551\n",
      "For n_init=10 and max_iter=25 the best objective value is 1079.528802295708, range is 1079.528802295708-1103.8158592931477\n",
      "For n_init=15 and max_iter=5 the best objective value is 1087.8564615839796, range is 1087.8564615839796-1132.9757848721888\n",
      "For n_init=15 and max_iter=10 the best objective value is 1080.1240856201782, range is 1080.1240856201782-1108.4061584059127\n",
      "For n_init=15 and max_iter=15 the best objective value is 1079.560709269247, range is 1079.560709269247-1107.6062523354844\n",
      "For n_init=15 and max_iter=20 the best objective value is 1079.5538605998552, range is 1079.5538605998552-1106.6933562332551\n",
      "For n_init=15 and max_iter=25 the best objective value is 1079.4391888150687, range is 1079.4391888150687-1103.8158592931477\n"
     ]
    }
   ],
   "source": [
    "for n_init in range(5, 20, 5):\n",
    "    for max_iter in range(5, 30, 5):\n",
    "        model = CustomKMeans(n_clusters=10, n_init=n_init, max_iter=max_iter)\n",
    "        model.fit(X)\n",
    "        print(f\"For n_init={n_init} and max_iter={max_iter} the best objective value is {model.top_objective}, range is {min(model.objectives)[0]}-{max(model.objectives)[0]}\")"
   ]
  },
  {
   "cell_type": "markdown",
   "source": [
    "According to the observations above, increasing n_init helps us reach the best value out of random combinations of possible starting centroids, so it can be increased to slightly imporve the final result.\n",
    "The increase of max_iter gives a good boost up to the point when all rows are assigned to their labels (because we don't check that centroids don't change).\n",
    "\n",
    "The best result is achieved with n_init=15 and max_iter=25, however, it is really close to the values achieved with lower hyperparameters."
   ],
   "metadata": {
    "collapsed": false,
    "pycharm": {
     "name": "#%% md\n"
    }
   }
  },
  {
   "cell_type": "markdown",
   "metadata": {},
   "source": [
    "Now we will use two popular algorithms: hierarchical clustering and $K$-means clustering. These and other algorithms are available in the `scikit-learn` module in the `cluster` submodule. Hierarchical clustering is called `AgglomerativeClustering`, and the $K$-means method is called `KMeans`.\n",
    "\n",
    "**(0.5 points)** Use each of the two methods: hierarchical clustering and KMeans. Get the `X` array partition into 10 clusters.\n",
    "\n",
    "- Note that `AgglomerativeClustering` does not have a `predict` method, so you can either use the `fit_predict` method or use the `fit` method and then look at the `labels_` attribute of the class instance.\n",
    "- Kmeans performs multiple runs (default 10) with random centers and then returns the best partition in terms of average distance within the clusters. You can increase the number of runs to improve the quality of predictions in the `i_init` parameter."
   ]
  },
  {
   "cell_type": "code",
   "execution_count": 10,
   "metadata": {},
   "outputs": [],
   "source": [
    "hierarchical_labels = AgglomerativeClustering(n_clusters=10).fit_predict(X)\n",
    "kmeans_labels = KMeans(n_clusters=10, n_init=30).fit_predict(X)"
   ]
  },
  {
   "cell_type": "code",
   "execution_count": 11,
   "metadata": {},
   "outputs": [],
   "source": [
    "assert hierarchical_labels.shape == (1797,)\n",
    "assert kmeans_labels.shape == (1797,)"
   ]
  },
  {
   "cell_type": "markdown",
   "metadata": {},
   "source": [
    "**(0.5 points)** Visualize the centers of clusters obtained by both methods."
   ]
  },
  {
   "cell_type": "code",
   "execution_count": 12,
   "metadata": {},
   "outputs": [
    {
     "data": {
      "text/plain": "<Figure size 720x288 with 10 Axes>",
      "image/png": "[encoded data removed]"
     },
     "metadata": {
      "needs_background": "light"
     },
     "output_type": "display_data"
    }
   ],
   "source": [
    "f, ax = plt.subplots(2, 5, figsize=(10,4))\n",
    "\n",
    "for i in range(2):\n",
    "    for j in range(5):\n",
    "        label = i*5+j\n",
    "        cluster_center = np.array(X[hierarchical_labels == label].mean(0))\n",
    "        ax[i][j].set_axis_off()\n",
    "        ax[i][j].imshow(cluster_center.reshape(8,8))\n",
    "\n",
    "plt.title('hierarchical clustering')\n",
    "plt.show();"
   ]
  },
  {
   "cell_type": "code",
   "execution_count": 13,
   "outputs": [
    {
     "data": {
      "text/plain": "<Figure size 720x288 with 10 Axes>",
      "image/png": "[encoded data removed]"
     },
     "metadata": {
      "needs_background": "light"
     },
     "output_type": "display_data"
    }
   ],
   "source": [
    "f, ax = plt.subplots(2, 5, figsize=(10,4))\n",
    "\n",
    "for i in range(2):\n",
    "    for j in range(5):\n",
    "        label = i*5+j\n",
    "        cluster_center = np.array(X[kmeans_labels == label].mean(0))\n",
    "        ax[i][j].set_axis_off()\n",
    "        ax[i][j].imshow(cluster_center.reshape(8,8))\n",
    "\n",
    "plt.title('kmeans clustering')\n",
    "plt.show();"
   ],
   "metadata": {
    "collapsed": false,
    "pycharm": {
     "name": "#%%\n"
    }
   }
  },
  {
   "cell_type": "markdown",
   "metadata": {},
   "source": [
    "In a situation where the true number of classes is unknown, we can select it by maximazing some metric.\n",
    "\n",
    "When we can set some distance function between our observations, we can consider the `silhouette` distance as a function of measuring the quality of the clustering. Let's show how it is calculated:"
   ]
  },
  {
   "cell_type": "markdown",
   "metadata": {},
   "source": [
    "Let $X$ – set of observations, $M \\subset X$ – one of the clusters obtained as a result of clustering process, $\\rho$ – some metric on $X$. Let's choose one observation $x \\in M$. Denote $a(x)$ as the average distance from $x$ to  $x'$ points from the same cluster:\n",
    "$$\n",
    "a(x) = \\frac{1}{|M| - 1} \\sum_{x' \\in M,\\, x' \\ne x} \\rho(x,\\, x')\n",
    "$$\n",
    "\n",
    "Denote $b(x)$ as minimun of average distances from $x$ to $x''$ from some other cluster $N$:\n",
    "$$\n",
    "b(x) = \\min_{N \\ne M} \\frac{1}{|N|} \\sum_{x'' \\in N} \\rho(x,\\, x'')\n",
    "$$\n",
    "\n",
    "The silhouette is difference between a(x) and b(x), normalized to $[-1, \\, 1]$ and averaged over all observations:\n",
    "$$\n",
    "\\frac{1}{|X|} \\sum_{x \\in X} \\frac{b(x) - a(x)}{\\max(a(x),\\, b(x))}\n",
    "$$\n",
    "\n",
    "The implementation of this metric in the `scikit-learn` is the `silhouette_score` function from the `metrics` submidule."
   ]
  },
  {
   "cell_type": "markdown",
   "metadata": {
    "collapsed": true
   },
   "source": [
    "**(0.75 point)** For each $K$ between 2 and 20 inclusive, partition of the array $X$ into $K$ clusters using both methods. Calculate the silhouette score and visualize it for both methods on the same plot ($K$ on the $x$ axis and silhouette score on the $y$ axis). Sign the axes and make a legend."
   ]
  },
  {
   "cell_type": "code",
   "execution_count": 14,
   "metadata": {},
   "outputs": [],
   "source": [
    "results = []\n",
    "\n",
    "for K in range(2, 21):\n",
    "    hierarchical_labels = AgglomerativeClustering(n_clusters=K).fit_predict(X)\n",
    "    kmeans_labels = KMeans(n_clusters=K, n_init=30).fit_predict(X)\n",
    "    hierarchical_score = silhouette_score(X, hierarchical_labels)\n",
    "    kmeans_score = silhouette_score(X, kmeans_labels)\n",
    "    results.append({'k': K, 'silhouette_score': hierarchical_score, 'method': 'hierarchical'})\n",
    "    results.append({'k': K, 'silhouette_score': kmeans_score, 'method': 'kmeans'})\n",
    "\n",
    "results = pd.DataFrame(results, columns=['k', 'silhouette_score', 'method'])"
   ]
  },
  {
   "cell_type": "code",
   "execution_count": 15,
   "outputs": [
    {
     "data": {
      "text/plain": "<Figure size 454.75x360 with 1 Axes>",
      "image/png": "[encoded data removed]"
     },
     "metadata": {
      "needs_background": "light"
     },
     "output_type": "display_data"
    }
   ],
   "source": [
    "import seaborn as sns\n",
    "\n",
    "figure = sns.relplot(\n",
    "    data=results,\n",
    "    x=\"k\", y=\"silhouette_score\", hue=\"method\", kind=\"line\")\n",
    "plt.suptitle('Silhouette_score for different cluster numbers')\n",
    "plt.xlabel('No. of clusters')\n",
    "plt.ylabel('Silhouette score')\n",
    "plt.xlim(0, 20)\n",
    "plt.grid()\n",
    "plt.show();"
   ],
   "metadata": {
    "collapsed": false,
    "pycharm": {
     "name": "#%%\n"
    }
   }
  },
  {
   "cell_type": "markdown",
   "metadata": {},
   "source": [
    "When we know the true clustering labels, the clustering result can be compared to them using measures such as `homogeneity`, `completeness` and their harmonic mean - $V$-score. The definitions of these quantities are rather bulky and are based on the [entropy of the probability distribution](https://ru.wikipedia.org/wiki/Информационная_энтропия). Details are given in [this article](http://aclweb.org/anthology/D/D07/D07-1043.pdf). In practice, it's enough to know that `homogeneity`, `completeness` and $V$-score are in the range from 0 and 1, and the more, the better.\n",
    "\n",
    "Since we know what digit each image is (`y` array), we can compare the clustering results to it using the measures listed above."
   ]
  },
  {
   "cell_type": "markdown",
   "metadata": {},
   "source": [
    "**(0.5 points)** Repeat the previous task using $V$-measure instead of silhouette."
   ]
  },
  {
   "cell_type": "code",
   "execution_count": 16,
   "metadata": {},
   "outputs": [],
   "source": [
    "results = []\n",
    "\n",
    "for K in range(2, 21):\n",
    "    hierarchical_labels = AgglomerativeClustering(n_clusters=K).fit_predict(X)\n",
    "    kmeans_labels = KMeans(n_clusters=K, n_init=30).fit_predict(X)\n",
    "    hierarchical_score = v_measure_score(y, hierarchical_labels)\n",
    "    kmeans_score = v_measure_score(y, kmeans_labels)\n",
    "    results.append({'k': K, 'v_measure_score': hierarchical_score, 'method': 'hierarchical'})\n",
    "    results.append({'k': K, 'v_measure_score': kmeans_score, 'method': 'kmeans'})\n",
    "\n",
    "results = pd.DataFrame(results, columns=['k', 'v_measure_score', 'method'])"
   ]
  },
  {
   "cell_type": "code",
   "execution_count": 17,
   "outputs": [
    {
     "data": {
      "text/plain": "<Figure size 454.75x360 with 1 Axes>",
      "image/png": "[encoded data removed]"
     },
     "metadata": {
      "needs_background": "light"
     },
     "output_type": "display_data"
    }
   ],
   "source": [
    "figure = sns.relplot(\n",
    "    data=results,\n",
    "    x=\"k\", y=\"v_measure_score\", hue=\"method\", kind=\"line\")\n",
    "plt.suptitle('V-measure for different cluster numbers')\n",
    "plt.xlabel('No. of clusters')\n",
    "plt.ylabel('V-measure score')\n",
    "plt.ylim(0, 1)\n",
    "plt.xlim(0, 20)\n",
    "plt.grid()\n",
    "plt.show();"
   ],
   "metadata": {
    "collapsed": false,
    "pycharm": {
     "name": "#%%\n"
    }
   }
  },
  {
   "cell_type": "markdown",
   "metadata": {},
   "source": [
    "## 3. Feature space dimensionality reduction\n",
    "\n",
    "In some cases, especially when there are a large number of features, when not all of them are informative, and some of them are correlated, it can be useful to reduce the dimension of the feature space. This mean that instead of $d$ original features, we will go to $d'\\ll d$ new ones. And if earlier our data were presented in the form of an $n×d$ matrix, then it will presented as a $n×d'$.\n",
    "\n",
    "There are two popular dimensionality reduction approaches:\n",
    "- select new features from existing features;\n",
    "- extract the new features by transforming old ones, for example, by making $d'$ different linear combinations of columns of an $n×d$ matrix.\n",
    "\n",
    "One widely used dimensionality reduction technique is the Singular Value Decomposition (SVD). This method allows you to construct any number $d'\\leq d$ of new features in such a way that they are the most informative (in some sense).\n",
    "\n",
    "The `scikit-learn` module has several implementations of singular value decomposition. We will use the `TruncatedSVD` class from the `decomposition` submodule.\n",
    "\n",
    "**Note:** The singular value decomposition of the matrix $M$ is usually written as $M=U \\Sigma V^{*}$. `TruncatedSVD`, in turn, returns only the $d'$ first columns of the matrix $U$."
   ]
  },
  {
   "cell_type": "markdown",
   "metadata": {},
   "source": [
    "**(0.75 point)** Perform a singular value decomposition of the $X$ matrix, leaving 2, 5, 10, 20 features. In each case, perform hierarchical clustering and $K$-Means clustering (take the number of clusters equal to 10). Calculate the silhouette and $V$-score and compare them to corresponding values obtained from the original data.\n",
    "\n",
    "**Note**: It is not valid to compare the silhouette calculated with different metrics. Even if we use the same metric function when calculating the distance between points in the data, after applying dimensionality reduction or other data transformations, we will (not always) get different silhouette scores. Therefore, after training the clustering algorithm, to compare the result of clustering, you need to calculate the silhouette on the original data."
   ]
  },
  {
   "cell_type": "code",
   "execution_count": 18,
   "metadata": {},
   "outputs": [
    {
     "name": "stdout",
     "output_type": "stream",
     "text": [
      "Initial data (64 features): Hierarchical Clustering: Silhoutte=0.178; V-Measure=0.868\n",
      "Initial data (64 features): KMeans Clustering: Silhoutte=0.182; V-Measure=0.739\n",
      "2 features: Hierarchical Clustering: Silhoutte=-0.008; V-Measure=0.334\n",
      "2 features: KMeans Clustering: Silhoutte=0.006; V-Measure=0.347\n",
      "5 features: Hierarchical Clustering: Silhoutte=0.162; V-Measure=0.676\n",
      "5 features: KMeans Clustering: Silhoutte=0.169; V-Measure=0.637\n",
      "10 features: Hierarchical Clustering: Silhoutte=0.177; V-Measure=0.826\n",
      "10 features: KMeans Clustering: Silhoutte=0.18; V-Measure=0.721\n",
      "20 features: Hierarchical Clustering: Silhoutte=0.169; V-Measure=0.814\n",
      "20 features: KMeans Clustering: Silhoutte=0.182; V-Measure=0.742\n"
     ]
    }
   ],
   "source": [
    "n_features = [2, 5, 10, 20]\n",
    "\n",
    "hierarchical_labels = AgglomerativeClustering(n_clusters=10).fit_predict(X)\n",
    "kmeans_labels = KMeans(n_clusters=10).fit_predict(X)\n",
    "hierarchical_v_score = v_measure_score(y, hierarchical_labels)\n",
    "kmeans_v_score = v_measure_score(y, kmeans_labels)\n",
    "hierarchical_silhouette_score = silhouette_score(X, hierarchical_labels)\n",
    "kmeans_silhouette_score = silhouette_score(X, kmeans_labels)\n",
    "print(f\"Initial data ({X.shape[1]} features): Hierarchical Clustering: Silhoutte={round(hierarchical_silhouette_score, 3)}; V-Measure={round(hierarchical_v_score, 3)}\")\n",
    "print(f\"Initial data ({X.shape[1]} features): KMeans Clustering: Silhoutte={round(kmeans_silhouette_score, 3)}; V-Measure={round(kmeans_v_score, 3)}\")\n",
    "\n",
    "for n in n_features:\n",
    "    new_X = TruncatedSVD(n_components=n).fit_transform(X)\n",
    "    hierarchical_labels = AgglomerativeClustering(n_clusters=10).fit_predict(new_X)\n",
    "    kmeans_labels = KMeans(n_clusters=10).fit_predict(new_X)\n",
    "    hierarchical_v_score = v_measure_score(y, hierarchical_labels)\n",
    "    kmeans_v_score = v_measure_score(y, kmeans_labels)\n",
    "    hierarchical_silhouette_score = silhouette_score(X, hierarchical_labels)\n",
    "    kmeans_silhouette_score = silhouette_score(X, kmeans_labels)\n",
    "    print(f\"{n} features: Hierarchical Clustering: Silhoutte={round(hierarchical_silhouette_score, 3)}; V-Measure={round(hierarchical_v_score, 3)}\")\n",
    "    print(f\"{n} features: KMeans Clustering: Silhoutte={round(kmeans_silhouette_score, 3)}; V-Measure={round(kmeans_v_score, 3)}\")"
   ]
  },
  {
   "cell_type": "markdown",
   "source": [
    "As we can see, the scores for clusters with 10 and 20 features left are almost the same as the scores of original data with 64 features"
   ],
   "metadata": {
    "collapsed": false,
    "pycharm": {
     "name": "#%% md\n"
    }
   }
  },
  {
   "cell_type": "markdown",
   "metadata": {},
   "source": [
    "Another popular dimensionality reduction approach that is useful for working with images is t-distributed stochastic neighbor embeddings, abbreviated `tSNE`. Unlike singular value decomposition, this it is non-linear transformation. It's main idea is to map points from a space of dimension `d` to another space of dimension 2 or 3 in such a way that the distances between points are mostly preserved. Mathematical details can be found, for example, [here](https://en.wikipedia.org/wiki/T-distributed_stochastic_neighbor_embedding).\n",
    "\n",
    "The implementation of `tSNE` in the `scikit-learn` library is the `TSNE` class in the `manifold` submodule.\n",
    "\n",
    "**Note:** In recent years [UMAP](https://github.com/lmcinnes/umap) is often used istead of `tSNE`. It is a faster algorithm with similar properties. We don't ask you to use `UMAP` because it requires you to install another dependency, the `umap-learn` library. Those who wish can perform the following task using `UMAP`."
   ]
  },
  {
   "cell_type": "markdown",
   "metadata": {},
   "source": [
    "**(0.5 points)** Perform a tSNE-transform of the `X` matrix, leaving 2 features. Visualize the obtained data in the form of a scatter plot form: the first feature on the horizontal axis, and the second one the vertical axis. Color the points according to the digits they belong to.\n",
    "\n",
    "- The `c` parameter in the plt.scatter function is responsible for the color of the points. Pass the true labels to it."
   ]
  },
  {
   "cell_type": "code",
   "execution_count": 19,
   "metadata": {},
   "outputs": [
    {
     "name": "stderr",
     "output_type": "stream",
     "text": [
      "c:\\python39\\lib\\site-packages\\sklearn\\manifold\\_t_sne.py:780: FutureWarning: The default initialization in TSNE will change from 'random' to 'pca' in 1.2.\n",
      "  warnings.warn(\n",
      "c:\\python39\\lib\\site-packages\\sklearn\\manifold\\_t_sne.py:790: FutureWarning: The default learning rate in TSNE will change from 200.0 to 'auto' in 1.2.\n",
      "  warnings.warn(\n"
     ]
    },
    {
     "data": {
      "text/plain": "<Figure size 432x288 with 1 Axes>",
      "image/png": "[encoded data removed]"
     },
     "metadata": {
      "needs_background": "light"
     },
     "output_type": "display_data"
    }
   ],
   "source": [
    "new_X = TSNE(n_components=2).fit_transform(X)\n",
    "\n",
    "plt.scatter(x=new_X[:, 0], y=new_X[:, 1], c=y);"
   ]
  },
  {
   "cell_type": "markdown",
   "metadata": {},
   "source": [
    "**(0.5 points)** From the data transformed using the tSNE, perform hierarchical clustering and $K$-means clustering (take the number of clusters equal to 10). Calculate the silhouette and the $V$-score and compare them to corresponding values obtained from the original data."
   ]
  },
  {
   "cell_type": "code",
   "execution_count": 20,
   "metadata": {},
   "outputs": [
    {
     "name": "stdout",
     "output_type": "stream",
     "text": [
      "Initial data (64 features): Hierarchical Clustering: Silhoutte=0.178; V-Measure=0.868\n",
      "Initial data (64 features): KMeans Clustering: Silhoutte=0.182; V-Measure=0.739\n",
      "Transformed data (2 features): Hierarchical Clustering: Silhoutte=0.164; V-Measure=0.91\n",
      "Transformed data (2 features): KMeans Clustering: Silhoutte=0.164; V-Measure=0.909\n"
     ]
    }
   ],
   "source": [
    "hierarchical_labels = AgglomerativeClustering(n_clusters=10).fit_predict(X)\n",
    "kmeans_labels = KMeans(n_clusters=10).fit_predict(X)\n",
    "hierarchical_v_score = v_measure_score(y, hierarchical_labels)\n",
    "kmeans_v_score = v_measure_score(y, kmeans_labels)\n",
    "hierarchical_silhouette_score = silhouette_score(X, hierarchical_labels)\n",
    "kmeans_silhouette_score = silhouette_score(X, kmeans_labels)\n",
    "print(f\"Initial data ({X.shape[1]} features): Hierarchical Clustering: Silhoutte={round(hierarchical_silhouette_score, 3)}; V-Measure={round(hierarchical_v_score, 3)}\")\n",
    "print(f\"Initial data ({X.shape[1]} features): KMeans Clustering: Silhoutte={round(kmeans_silhouette_score, 3)}; V-Measure={round(kmeans_v_score, 3)}\")\n",
    "\n",
    "hierarchical_labels = AgglomerativeClustering(n_clusters=10).fit_predict(new_X)\n",
    "kmeans_labels = KMeans(n_clusters=10).fit_predict(new_X)\n",
    "hierarchical_v_score = v_measure_score(y, hierarchical_labels)\n",
    "kmeans_v_score = v_measure_score(y, kmeans_labels)\n",
    "hierarchical_silhouette_score = silhouette_score(X, hierarchical_labels)\n",
    "kmeans_silhouette_score = silhouette_score(X, kmeans_labels)\n",
    "print(f\"Transformed data ({new_X.shape[1]} features): Hierarchical Clustering: Silhoutte={round(hierarchical_silhouette_score, 3)}; V-Measure={round(hierarchical_v_score, 3)}\")\n",
    "print(f\"Transformed data ({new_X.shape[1]} features): KMeans Clustering: Silhoutte={round(kmeans_silhouette_score, 3)}; V-Measure={round(kmeans_v_score, 3)}\")"
   ]
  },
  {
   "cell_type": "markdown",
   "source": [
    "Using tSNE we managed to reduce the number of features dramatically with a notable increase in V-Measure scores!"
   ],
   "metadata": {
    "collapsed": false,
    "pycharm": {
     "name": "#%% md\n"
    }
   }
  },
  {
   "cell_type": "markdown",
   "metadata": {},
   "source": [
    "**(0.25 points)** Choose the best partition (in terms of silhouette or $V$-score) and visualize the centers of clusters with images. Did you managed to make each digit correspond to one center of the cluster?"
   ]
  },
  {
   "cell_type": "code",
   "execution_count": 21,
   "metadata": {},
   "outputs": [
    {
     "data": {
      "text/plain": "<Figure size 720x288 with 10 Axes>",
      "image/png": "[encoded data removed]"
     },
     "metadata": {
      "needs_background": "light"
     },
     "output_type": "display_data"
    }
   ],
   "source": [
    "f, ax = plt.subplots(2, 5, figsize=(10,4))\n",
    "\n",
    "for i in range(2):\n",
    "    for j in range(5):\n",
    "        label = i*5+j\n",
    "        cluster_center = np.array(X[hierarchical_labels == label].mean(0))\n",
    "        ax[i][j].set_axis_off()\n",
    "        ax[i][j].imshow(cluster_center.reshape(8,8))\n",
    "\n",
    "plt.title('Hierarchical clustering')\n",
    "plt.show();"
   ]
  },
  {
   "cell_type": "markdown",
   "source": [
    "Using hierarchical clustering and tSNE, we managed to make each digit correspond to one center of the cluster"
   ],
   "metadata": {
    "collapsed": false
   }
  },
  {
   "cell_type": "markdown",
   "metadata": {},
   "source": [
    "## 4. Results and bonus part"
   ]
  },
  {
   "cell_type": "markdown",
   "metadata": {},
   "source": [
    "Write in free form what conclusions you made after completing this assignment. Answer the following questions:\n",
    "\n",
    "**(0.5 points)** Which algorithm gives more meaningful results - hierarchical clustering or $K$- means clustering. Does it depend on the algorithm settings or on the quality evaluation method?"
   ]
  },
  {
   "cell_type": "markdown",
   "source": [
    "In my opinion, the choice of method primarily depends on what kind of connections you want to identify. If you want to identify chains of links, the hierarchical method is more suitable. KMeans is more suitable for finding cliques. The settings also impact the meaningfulness of result, yet they are also heavily relying on the nature of the data."
   ],
   "metadata": {
    "collapsed": false
   }
  },
  {
   "cell_type": "code",
   "execution_count": 21,
   "metadata": {},
   "outputs": [],
   "source": []
  },
  {
   "cell_type": "markdown",
   "metadata": {},
   "source": [
    "**(0.5 points)** Imagine the situation where after hierarchical clustering, you need to cluster new data in the same way without retraining the model. Suggest a method how you will do it and how you will measure the quality of clustering of new data."
   ]
  },
  {
   "cell_type": "markdown",
   "source": [
    "We can calculate the closest points in the old data corresponding to the new data and assign their labels. Evaluation can be done with the silhouette score."
   ],
   "metadata": {
    "collapsed": false
   }
  },
  {
   "cell_type": "code",
   "execution_count": 21,
   "metadata": {},
   "outputs": [],
   "source": []
  },
  {
   "cell_type": "markdown",
   "metadata": {
    "collapsed": true
   },
   "source": [
    "**(0.5 points)** Does dimensionality reduction improve clustering results?"
   ]
  },
  {
   "cell_type": "markdown",
   "source": [
    "Dimensionality reduction may improve clustering results. Many clustering algorithms use a distance formula to determine cluster membership. When our clustering algorithm has too many dimensions, pairs of points will begin to have very similar distances and we wouldn’t be able to obtain meaningful clusters. Dimensionality reduction can be used to overcome these issues."
   ],
   "metadata": {
    "collapsed": false
   }
  },
  {
   "cell_type": "code",
   "execution_count": 21,
   "metadata": {},
   "outputs": [],
   "source": []
  },
  {
   "cell_type": "markdown",
   "metadata": {},
   "source": [
    "**(0.5 points)** How to evaluate the quality of dimensional reduction? Suggest at least 2 options."
   ]
  },
  {
   "cell_type": "markdown",
   "source": [
    "One can use the silhouette score using labels acquired with the new data or calculate V-Measure"
   ],
   "metadata": {
    "collapsed": false
   }
  },
  {
   "cell_type": "code",
   "execution_count": 21,
   "metadata": {},
   "outputs": [],
   "source": []
  },
  {
   "cell_type": "markdown",
   "metadata": {},
   "source": [
    "**(Bonus 2 points)** Load the [MNIST Handwritten Digits](http://yann.lecun.com/exdb/mnist) dataset. You can also do it with `scikit-learn` as explained [here](https://stackoverflow.com/a/60450028). Explore the data and try to cluster it using different approaches. Compare results of these approaches using the silhouette and the $V$-score."
   ]
  },
  {
   "cell_type": "code",
   "execution_count": 21,
   "metadata": {},
   "outputs": [],
   "source": []
  }
 ],
 "metadata": {
  "kernelspec": {
   "display_name": "Python 3 (ipykernel)",
   "language": "python",
   "name": "python3"
  },
  "language_info": {
   "codemirror_mode": {
    "name": "ipython",
    "version": 3
   },
   "file_extension": ".py",
   "mimetype": "text/x-python",
   "name": "python",
   "nbconvert_exporter": "python",
   "pygments_lexer": "ipython3",
   "version": "3.9.7"
  }
 },
 "nbformat": 4,
 "nbformat_minor": 2
}